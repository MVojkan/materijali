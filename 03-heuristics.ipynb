{
 "cells": [
  {
   "attachments": {},
   "cell_type": "markdown",
   "metadata": {},
   "source": [
    "# Osnovi računarske inteligencije\n",
    "\n",
    "## Vežbe 3 - Heuristike\n",
    "\n",
    "---\n",
    "\n",
    "Podsetnik sa predavanja:\n",
    "- Heuristika je funkcija koja procenjuje koliko je neko stanje udaljeno od ciljanog stanja\n",
    "- Kreira se za svaki problem posebno\n",
    "- Npr. Manhattan udaljenost, Euklidska udaljenost\n",
    "\n",
    "Da bi A\\* garantovano pronašla putanju sa najmanjom cenom, potrebno je da heurstika bude dopustiva i dosledna.\n",
    "\n",
    "#### Dopustiva heuristika\n",
    "\n",
    "Vrednost heuristike za nekog stanja mora biti manja od stvarne cene od tog stanja do cilja.\n",
    "\n",
    "$$ 0 \\leq h(n) \\leq h^*(n) $$\n",
    "\n",
    "#### Dosledna heuristika\n",
    "\n",
    "Heuristika je dosledna ukoliko je procena nekog stanja n uvek manja ili jednaka proceni susednog stanja m, plus ceni putanje od n do m.\n",
    "\n",
    "$$ h(n) \\leq c(n, m) + h(m) $$\n",
    "\n",
    "Drugačije rečeno, da bi heuristika bila dosledna, razlika njenih procena između dva stanja ne sme da bude veća od stvarne cene puta od jednog do drugog stanja.\n",
    "\n",
    "---\n",
    "### A\\*\n",
    "\n",
    "A\\* je algoritam pretrage koji za svako stanja računa vrednost f(n) = g(n) + h(n), gde su g(n) dosadšnja cena puta do trenutnog stanja, a h(n) procena cene od trenutnog do ciljanog stanja. Za svaki čvor, f(n) aproksimira čitavu putanju od početka do cilja, prolazeći kroz taj čvor najkraćom putanjom. Prilikom pretrage, uvek se bira stanje sa najmanjom procenjenom cenom od svih stanja na koje je pretraga do tog momenta naišla.\n",
    "\n",
    "**Heuristika ne sme da menja rezultat pretrage**\n",
    "\n",
    "**Ukoliko želimo da promenimo rezultat pretrage, moramo da redefinišemo sam problem**\n",
    "\n",
    "Optimalno rešenje uvek možemo pronaći pomoću UCS algoritma. Prednost A\\* je što do rešenja dolazi obaskom manje čvorova.\n",
    "\n",
    "Posmatraćemo nekoliko primera"
   ]
  },
  {
   "cell_type": "markdown",
   "metadata": {},
   "source": [
    "### Zadatak 1\n",
    "\n",
    "- Na tabli se nalazi vatra. Implementirati pretragu tako da agent stigne do cilja kretajući se putanjom koja ne prilazi blizu vatri.\n",
    "- Probajte sami\n",
    "- Implementirati doslednu i dopustivu heuristiku koja će unaprediti pretragu (smanjiti broj obiđenjih čvorova bez promene ukupne cene pronađene putanje)\n",
    "\n",
    "\n",
    "#### Promena cene\n",
    "Kako bi se agent kretao dalje od vatra, jedno rešenje je da svaki potez kaznimo u zavisnosti od udaljenosti polja od vatra. Pošto želimo stanja bliža vatri da kažnjavamo više od dalih stanja, neka ova dodatna cena obrnutno srazmerno zavisi od kvadrata udaljenosti od vatre. Zatim, kako bi ovaj deo cene imao veći impakt, pomnožimo ga sa npr. 100.\n",
    "\n",
    "#### Heuristika\n",
    "Ako na prethnodu izmenu pokrenemo UCS algoritam, pretraga obilazi 53 čvora.\n",
    "\n",
    "Kao neku osnovnu heuristiku možemo primeniti Manhattan udaljenost od ciljanog polja. Da li je dopustiva? Da li je dosledna?\n",
    "\n",
    "Videli smo ranije da je za osnovni problem robot pretrage (bez vatre, plavih kutija, itd.) ova heuristika dopustiva i dosledna. Kako smo mi na cenu stanja isključivo dodavali neku vrednost, ova heuristika ostaje dopustiva i za ovaj problem. Takođe, stvarna cena prelska između dva susedna stanja je uvek veća od 1, a razlika u našoj proceni je uvek 1, tako da je heuristika dosledna.\n",
    "\n",
    "Ova pretraga razvija 49 čvorova, što je unapređenje.\n",
    "\n",
    "Kako dalje unaprediti heuristiku? Da li je moguće uključiti cenu koja donosi vatra u našu procenu udaljenosti od cilja?"
   ]
  },
  {
   "cell_type": "markdown",
   "metadata": {},
   "source": [
    "### Zadatak 2\n",
    "\n",
    "- Omogućiti agentu da se kreće dijagonalno po jedno polje u svakom pravcu.\n",
    "- Dovoljno je dodati akcije za kretanje dijagonalno u `get_legal_positions` metodu\n",
    "- Osmisliti dopustivu i doslednu heuristiku\n",
    "- Probajte sami\n",
    "\n",
    "#### Diskusija\n",
    "Da li sada možemo da koristimo Manhattan udaljenost?\n",
    "\n",
    "Bez dodatnih izmena, cena dijagonalnog poteza je 1, a udaljenost do cilja se potencijalno može promeniti za dva polja, tako da ova heuristika nije dosledna, a ni dopustiva.\n",
    "\n",
    "Mogli bismo povećati cenu dijagonalne akcije na 2. Time bi naša heuristika bila dosledna, ali bi agentu bilo svejedno da li se kreće dijagonalno ili ne.\n",
    "\n",
    "Druga opcija je da za procenu koristimo euklidsku distancu. Šta se tada dešava sa našom heuristikom? Da li je potrebno menjati cenu akcija?\n",
    "\n",
    "Treća opcija je da gledamo maksimalnu udaljenost po svakog osi. Šta se tada dešava sa našom heuristikom? Da li je potrebno menjati cenu akcija?"
   ]
  }
 ],
 "metadata": {
  "kernelspec": {
   "display_name": "Python 3",
   "language": "python",
   "name": "python3"
  },
  "language_info": {
   "codemirror_mode": {
    "name": "ipython",
    "version": 2
   },
   "file_extension": ".py",
   "mimetype": "text/x-python",
   "name": "python",
   "nbconvert_exporter": "python",
   "pygments_lexer": "ipython2",
   "version": "3.8.3"
  },
  "vscode": {
   "interpreter": {
    "hash": "9650cb4e16cdd4a8e8e2d128bf38d875813998db22a3c986335f89e0cb4d7bb2"
   }
  }
 },
 "nbformat": 4,
 "nbformat_minor": 0
}
